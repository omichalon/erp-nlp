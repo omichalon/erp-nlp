{
  "nbformat": 4,
  "nbformat_minor": 0,
  "metadata": {
    "colab": {
      "name": "runit.ipynb",
      "provenance": [],
      "collapsed_sections": []
    },
    "kernelspec": {
      "name": "python3",
      "display_name": "Python 3"
    },
    "accelerator": "GPU"
  },
  "cells": [
    {
      "cell_type": "code",
      "metadata": {
        "id": "Tput_98FlGkx"
      },
      "source": [
        "%pip install \"spacy>=3\"\n",
        "%pip install spacy-transformers\n",
        "\n",
        "\n",
        "\n"
      ],
      "execution_count": null,
      "outputs": []
    },
    {
      "cell_type": "code",
      "metadata": {
        "colab": {
          "base_uri": "https://localhost:8080/"
        },
        "id": "KGlA4WxQu2Ho",
        "outputId": "401c9e84-2e2b-4d9e-e33b-fa6902f77871"
      },
      "source": [
        "import spacy\n",
        "spacy.info()\n",
        "from spacy.cli.project.run import project_run\n",
        "from spacy.cli.project.assets import project_assets\n",
        "from pathlib import Path\n",
        "\n",
        "\n",
        "root = Path(\"/content/drive/MyDrive/collab/erp_textcat/goe_inspired_erp\")\n",
        "project_assets(root)\n",
        "\n",
        "\n"
      ],
      "execution_count": null,
      "outputs": [
        {
          "output_type": "stream",
          "text": [
            "\u001b[38;5;4mℹ Fetching 5 asset(s)\u001b[0m\n",
            "\u001b[38;5;2m✔ Asset already exists:\n",
            "/content/drive/MyDrive/collab/erp_textcat/goe_inspired_erp/assets/osterhout.corpus\u001b[0m\n",
            "\u001b[38;5;2m✔ Asset already exists:\n",
            "/content/drive/MyDrive/collab/erp_textcat/goe_inspired_erp/assets/osterhout.verbs\u001b[0m\n",
            "\u001b[38;5;2m✔ Asset already exists:\n",
            "/content/drive/MyDrive/collab/erp_textcat/goe_inspired_erp/assets/kim.corpus\u001b[0m\n",
            "\u001b[38;5;2m✔ Asset already exists:\n",
            "/content/drive/MyDrive/collab/erp_textcat/goe_inspired_erp/assets/kim.verbs\u001b[0m\n",
            "\u001b[38;5;2m✔ Downloaded asset\n",
            "/content/drive/MyDrive/collab/erp_textcat/goe_inspired_erp/assets/vectors.zip\u001b[0m\n"
          ],
          "name": "stdout"
        }
      ]
    },
    {
      "cell_type": "code",
      "metadata": {
        "id": "MdQFgtf5fbiJ"
      },
      "source": [
        "!python -m spacy download en_core_web_lg\n",
        "project_run(root, \"preprocess_kim\", capture=True, force=True)"
      ],
      "execution_count": null,
      "outputs": []
    },
    {
      "cell_type": "code",
      "metadata": {
        "colab": {
          "base_uri": "https://localhost:8080/"
        },
        "id": "RQSHsKHez3uW",
        "outputId": "b76ce20d-1e96-4c22-d092-75913df3daaf"
      },
      "source": [
        "project_run(root, \"train\", capture=True)\n"
      ],
      "execution_count": null,
      "outputs": [
        {
          "output_type": "stream",
          "text": [
            "\u001b[1m\n",
            "=================================== train ===================================\u001b[0m\n",
            "Running command: mkdir -p training/bert\n",
            "Running command: /usr/bin/python3 -m spacy train ./configs/bert.cfg -o training/bert --gpu-id -1\n"
          ],
          "name": "stdout"
        }
      ]
    },
    {
      "cell_type": "code",
      "metadata": {
        "colab": {
          "base_uri": "https://localhost:8080/"
        },
        "id": "PyO8ZL_lTQcP",
        "outputId": "79c6d879-8121-4a9e-fafe-4cac05d60039"
      },
      "source": [
        "project_run(root, \"evaluate\", capture=True)\n"
      ],
      "execution_count": null,
      "outputs": [
        {
          "output_type": "stream",
          "text": [
            "\u001b[1m\n",
            "================================== evaluate ==================================\u001b[0m\n",
            "Running command: /usr/bin/python3 -m spacy evaluate ./training/bert/model-best ./corpus/test.spacy --output ./metrics/bert.json\n"
          ],
          "name": "stdout"
        }
      ]
    },
    {
      "cell_type": "markdown",
      "metadata": {
        "id": "eYAEf0qCZCOx"
      },
      "source": [
        "{\n",
        "  \"token_acc\":1.0,\n",
        "  \"cats_score\":0.9854204477,\n",
        "  \"speed\":247.8028288108,\n",
        "  \"cats_f_per_type\":{\n",
        "    \"Se\":{\n",
        "      \"p\":0.8421052632,\n",
        "      \"r\":0.8421052632,\n",
        "      \"f\":0.8421052632\n",
        "    },\n",
        "    \"Sy\":{\n",
        "      \"p\":0.85,\n",
        "      \"r\":0.85,\n",
        "      \"f\":0.85\n",
        "    },\n",
        "    \"NA\":{\n",
        "      \"p\":1.0,\n",
        "      \"r\":1.0,\n",
        "      \"f\":1.0\n",
        "    }\n",
        "  },\n",
        "  \"cats_auc_per_type\":{\n",
        "    \"Se\":0.9773139746,\n",
        "    \"Sy\":0.9789473684,\n",
        "    \"NA\":1.0\n",
        "  }\n",
        "}"
      ]
    },
    {
      "cell_type": "code",
      "metadata": {
        "colab": {
          "base_uri": "https://localhost:8080/"
        },
        "id": "0eFSzy2BzjX_",
        "outputId": "2a075460-9df9-49ae-c7d2-312e8f9719b2"
      },
      "source": [
        "project_run(root, \"train_syn\", capture=True)\n"
      ],
      "execution_count": null,
      "outputs": [
        {
          "output_type": "stream",
          "text": [
            "\u001b[1m\n",
            "================================= train_syn =================================\u001b[0m\n",
            "Running command: mkdir -p training/bert_syn\n",
            "Running command: /usr/bin/python3 -m spacy train ./configs/bert_syn.cfg -o training/bert_syn --gpu-id -1\n"
          ],
          "name": "stdout"
        }
      ]
    },
    {
      "cell_type": "code",
      "metadata": {
        "colab": {
          "base_uri": "https://localhost:8080/"
        },
        "id": "ygrZS72Vzns_",
        "outputId": "a74001c2-d518-44dd-d877-10ab097fa078"
      },
      "source": [
        "project_run(root, \"train_sem\", capture=True)"
      ],
      "execution_count": null,
      "outputs": [
        {
          "output_type": "stream",
          "text": [
            "\u001b[1m\n",
            "================================= train_sem =================================\u001b[0m\n",
            "Running command: mkdir -p training/bert_sem\n",
            "Running command: /usr/bin/python3 -m spacy train ./configs/bert_sem.cfg -o training/bert_sem --gpu-id -1\n"
          ],
          "name": "stdout"
        }
      ]
    },
    {
      "cell_type": "code",
      "metadata": {
        "colab": {
          "base_uri": "https://localhost:8080/"
        },
        "id": "-k06bXpXzySB",
        "outputId": "b0f42514-3838-488b-8f96-7c2cf455dbe6"
      },
      "source": [
        "project_run(root, \"evaluate_ss_kim\", capture=True, force=True)\n"
      ],
      "execution_count": null,
      "outputs": [
        {
          "output_type": "stream",
          "text": [
            "\u001b[1m\n",
            "============================== evaluate_ss_kim ==============================\u001b[0m\n",
            "Running command: /usr/bin/python3 -m spacy evaluate ./training/bert_syn/model-best ./corpus/syn_test.spacy --output ./metrics/bert_syn.json\n",
            "Running command: /usr/bin/python3 -m spacy evaluate ./training/bert_sem/model-best ./corpus/sem_test.spacy --output ./metrics/bert_sem.json\n",
            "Running command: /usr/bin/python3 ./scripts/eval_ss_kim.py ./training/bert_sem/model-best ./training/bert_syn/model-best ./corpus/syn_test.spacy ./corpus/sem_test.spacy metrics/kim_ss.json\n"
          ],
          "name": "stdout"
        }
      ]
    },
    {
      "cell_type": "markdown",
      "metadata": {
        "id": "fL3Hg__Yn2QF"
      },
      "source": [
        "evaluate jointly"
      ]
    },
    {
      "cell_type": "code",
      "metadata": {
        "id": "qYZ6vefdbte2"
      },
      "source": [
        "import spacy\n",
        "model_sem= \"/content/drive/MyDrive/collab/erp_textcat/goe_inspired_erp/training/bert_sem/model-best\"\n",
        "model_syn = \"/content/drive/MyDrive/collab/erp_textcat/goe_inspired_erp/training/bert_syn/model-best\"\n",
        "test_sem_file = \"/content/drive/MyDrive/collab/erp_textcat/goe_inspired_erp/corpus/sem_test.spacy\"\n",
        "test_syn_file = \"/content/drive/MyDrive/collab/erp_textcat/goe_inspired_erp/corpus/syn_test.spacy\"\n",
        "nlp_sem = spacy.load(model_sem)\n",
        "nlp_syn = spacy.load(model_syn)\n"
      ],
      "execution_count": null,
      "outputs": []
    },
    {
      "cell_type": "code",
      "metadata": {
        "colab": {
          "base_uri": "https://localhost:8080/"
        },
        "id": "mbc86DM6GtTm",
        "outputId": "c0f0b3c6-d3a5-4a78-b3ed-9b0ecc664685"
      },
      "source": [
        "doc=nlp_syn(\"Olson's bulging suitcase had been forecasting correctly.\")\n",
        "print(doc.cats)\n",
        "doc=nlp_sem(\"Olson's bulging suitcase had been forecasting correctly.\")\n",
        "print(doc.cats)"
      ],
      "execution_count": null,
      "outputs": [
        {
          "output_type": "stream",
          "text": [
            "{'NA': 0.9967882633209229, 'Sy': 0.003612011205404997}\n",
            "{'NA': 0.007195719517767429, 'Se': 0.9970500469207764}\n"
          ],
          "name": "stdout"
        }
      ]
    },
    {
      "cell_type": "code",
      "metadata": {
        "colab": {
          "base_uri": "https://localhost:8080/"
        },
        "id": "Hc4C8kBLfCZ_",
        "outputId": "33301004-0d99-45f4-fb81-0242f84bf8bf"
      },
      "source": [
        "from spacy.tokens import DocBin, Doc\n",
        "from spacy.training import Example\n",
        "from spacy.scorer import Scorer\n",
        "docbin_sem = DocBin().from_disk(test_sem_file)\n",
        "docs_sem = sorted([doc for doc in docbin_sem.get_docs(nlp_sem.vocab)], key = lambda d: d.text)\n",
        "docbin_syn = DocBin().from_disk(test_syn_file)\n",
        "docs_syn = sorted([doc for doc in docbin_syn.get_docs(nlp_syn.vocab)], key = lambda d: d.text)\n",
        "\n",
        "\n",
        "preds = []\n",
        "golds = []\n",
        "\n",
        "def get_final_label(syn, sem):\n",
        "  d = {\n",
        "       (\"NA\", \"NA\"): \"NA\",\n",
        "       (\"NA\", \"Se\"): \"Se\",\n",
        "       (\"Sy\", \"NA\"): \"Sy\",\n",
        "       (\"Sy\", \"Se\"): \"SS\"\n",
        "  }\n",
        "  return d[(syn, sem)]\n",
        "\n",
        "def get_best_label(d):\n",
        "  return max(d, key=d.get)\n",
        "\n",
        "examples = []\n",
        "for i, (doc_syn, doc_sem) in enumerate(zip(docs_syn, docs_sem)):\n",
        "  gold_label=get_final_label(get_best_label(doc_syn.cats), get_best_label(doc_sem.cats))\n",
        "  golds.append(gold_label)\n",
        "  pred_sem = nlp_sem(doc_sem.text)\n",
        "  pred_syn = nlp_syn(doc_syn.text)\n",
        "  pred_label = get_final_label(get_best_label(pred_syn.cats), get_best_label(pred_sem.cats))\n",
        "  preds.append(pred_label)\n",
        "\n",
        "  gold = Doc(pred_sem.vocab).from_bytes(pred_sem.to_bytes())\n",
        "  gold.cats ={\"NA\": 0, \"SS\":0, \"Se\":0, \"Sy\":0}\n",
        "  gold.cats[gold_label] = 1\n",
        "  \n",
        "  pred = Doc(pred_sem.vocab).from_bytes(pred_sem.to_bytes())\n",
        "  pred.cats ={\"NA\": 0, \"SS\":0, \"Se\":0, \"Sy\":0}\n",
        "  pred.cats[pred_label] = 1\n",
        "  \n",
        "  examples.append(Example(pred, gold))\n",
        "\n",
        "  print(i, \"\\n syn \", doc_syn, doc_syn.cats, f\"pred_syn: {pred_syn.cats}\", \"\\n sem \", doc_sem, doc_sem.cats, f\"pred_sem: {pred_sem.cats}\")\n",
        "\n",
        "scorer = Scorer()\n",
        "scores = scorer.score_cats(examples, \"cats\", labels = [\"NA\", \"Sy\", \"Se\", \"SS\"])\n",
        "import json\n",
        "print(json.dumps(scores, indent=4))\n",
        "\n",
        "import numpy as np\n",
        "from sklearn.metrics import precision_recall_fscore_support\n",
        "y_true = np.array(golds)\n",
        "y_pred = np.array(preds)\n",
        "\n",
        "# score per label\n",
        "print(\"prf per label\")\n",
        "print(precision_recall_fscore_support(y_true, y_pred, average=None, labels=['NA', 'Se', 'Sy', 'SS']))\n",
        "# Calculate metrics for each label, and find their unweighted mean. This does not take label imbalance into account.\n",
        "print(\"prf macro\")\n",
        "print(precision_recall_fscore_support(y_true, y_pred, average='macro'))\n",
        "# Calculate metrics globally by counting the total true positives, false negatives and false positives.\n",
        "print(\"prf micro\")\n",
        "print(precision_recall_fscore_support(y_true, y_pred, average='micro'))\n",
        "# Calculate metrics for each label, and find their average weighted by support (the number of true instances for each label). This alters ‘macro’ to account for label imbalance; it can result in an F-score that is not between precision and recall.\n",
        "print(\"prf weighted\")\n",
        "print(precision_recall_fscore_support(y_true, y_pred, average='weighted'))\n"
      ],
      "execution_count": null,
      "outputs": [
        {
          "output_type": "stream",
          "text": [
            "0 \n",
            " syn  An urgent message had been sending by the ambassador to the President. {'NA': 0, 'Sy': 1} pred_syn: {'NA': 0.00018626819655764848, 'Sy': 0.999649167060852} \n",
            " sem  An urgent message had been sending by the ambassador to the President. {'NA': 1, 'Se': 0} pred_sem: {'NA': 0.9996090531349182, 'Se': 0.0003326638834550977}\n",
            "1 \n",
            " syn  An urgent message had been sent again. {'NA': 1, 'Sy': 0} pred_syn: {'NA': 0.9986979961395264, 'Sy': 0.0012557265581563115} \n",
            " sem  An urgent message had been sent again. {'NA': 1, 'Se': 0} pred_sem: {'NA': 0.999031662940979, 'Se': 0.0008203814504668117}\n",
            "2 \n",
            " syn  Billy's unruly hair was curing his cold. {'NA': 1, 'Sy': 0} pred_syn: {'NA': 0.9992364645004272, 'Sy': 0.0014564942102879286} \n",
            " sem  Billy's unruly hair was curing his cold. {'NA': 0, 'Se': 1} pred_sem: {'NA': 0.9583828449249268, 'Se': 0.0584445558488369}\n",
            "3 \n",
            " syn  Carrie had been canceling all of her meetings. {'NA': 1, 'Sy': 0} pred_syn: {'NA': 0.9986732006072998, 'Sy': 0.0008457086514681578} \n",
            " sem  Carrie had been canceling all of her meetings. {'NA': 1, 'Se': 0} pred_sem: {'NA': 0.9984214305877686, 'Se': 0.001572338631376624}\n",
            "4 \n",
            " syn  Carrie's morning meeting was canceled by the boss. {'NA': 1, 'Sy': 0} pred_syn: {'NA': 0.9990211725234985, 'Sy': 0.0006791150663048029} \n",
            " sem  Carrie's morning meeting was canceled by the boss. {'NA': 1, 'Se': 0} pred_sem: {'NA': 0.9995102882385254, 'Se': 0.0002846962306648493}\n",
            "5 \n",
            " syn  Carrie's morning meeting was canceling as expected. {'NA': 0, 'Sy': 1} pred_syn: {'NA': 0.9160768389701843, 'Sy': 0.049838755279779434} \n",
            " sem  Carrie's morning meeting was canceling as expected. {'NA': 1, 'Se': 0} pred_sem: {'NA': 0.9963445067405701, 'Se': 0.002828091150149703}\n",
            "6 \n",
            " syn  Erika was regretting the mistake. {'NA': 1, 'Sy': 0} pred_syn: {'NA': 0.9994658827781677, 'Sy': 0.0005000757519155741} \n",
            " sem  Erika was regretting the mistake. {'NA': 1, 'Se': 0} pred_sem: {'NA': 0.9989223480224609, 'Se': 0.0014397454215213656}\n",
            "7 \n",
            " syn  Food for the homeless had been donated many times. {'NA': 1, 'Sy': 0} pred_syn: {'NA': 0.9996191263198853, 'Sy': 0.0003818169643636793} \n",
            " sem  Food for the homeless had been donated many times. {'NA': 1, 'Se': 0} pred_sem: {'NA': 0.9997056126594543, 'Se': 0.0002587868657428771}\n",
            "8 \n",
            " syn  Food for the homeless had been donating neighborhood residents. {'NA': 0, 'Sy': 1} pred_syn: {'NA': 0.0010475657181814313, 'Sy': 0.9990090131759644} \n",
            " sem  Food for the homeless had been donating neighborhood residents. {'NA': 1, 'Se': 0} pred_sem: {'NA': 0.9996404647827148, 'Se': 0.00020403458620421588}\n",
            "9 \n",
            " syn  Janet's houseplants were watered by her neighbor. {'NA': 1, 'Sy': 0} pred_syn: {'NA': 0.9994052648544312, 'Sy': 0.0008233567350544035} \n",
            " sem  Janet's houseplants were watered by her neighbor. {'NA': 1, 'Se': 0} pred_sem: {'NA': 0.9995959401130676, 'Se': 0.00022727380564901978}\n",
            "10 \n",
            " syn  Janet's houseplants were watering too much. {'NA': 0, 'Sy': 1} pred_syn: {'NA': 0.9991625547409058, 'Sy': 0.0016209331806749105} \n",
            " sem  Janet's houseplants were watering too much. {'NA': 1, 'Se': 0} pred_sem: {'NA': 0.999448835849762, 'Se': 0.0007545832777395844}\n",
            "11 \n",
            " syn  Juan and Perry had been paying too much for their apartment. {'NA': 1, 'Sy': 0} pred_syn: {'NA': 0.9992855191230774, 'Sy': 0.0006624555680900812} \n",
            " sem  Juan and Perry had been paying too much for their apartment. {'NA': 1, 'Se': 0} pred_sem: {'NA': 0.9993046522140503, 'Se': 0.0007359987939707935}\n",
            "12 \n",
            " syn  Larry's note had been scribbled with haste. {'NA': 1, 'Sy': 0} pred_syn: {'NA': 0.9989509582519531, 'Sy': 0.0011591878719627857} \n",
            " sem  Larry's note had been scribbled with haste. {'NA': 1, 'Se': 0} pred_sem: {'NA': 0.9991501569747925, 'Se': 0.00102799735032022}\n",
            "13 \n",
            " syn  Larry's note had been scribbling his wife. {'NA': 0, 'Sy': 1} pred_syn: {'NA': 0.00019774967222474515, 'Sy': 0.9994896650314331} \n",
            " sem  Larry's note had been scribbling his wife. {'NA': 1, 'Se': 0} pred_sem: {'NA': 0.9986465573310852, 'Se': 0.0012803461868315935}\n",
            "14 \n",
            " syn  Larry's wife had been scribbling a note to him about dinner plans. {'NA': 1, 'Sy': 0} pred_syn: {'NA': 0.9993450045585632, 'Sy': 0.0004935118486173451} \n",
            " sem  Larry's wife had been scribbling a note to him about dinner plans. {'NA': 1, 'Se': 0} pred_sem: {'NA': 0.9993601441383362, 'Se': 0.000803947972599417}\n",
            "15 \n",
            " syn  Olson's bulging suitcase had been forecasting correctly. {'NA': 1, 'Sy': 0} pred_syn: {'NA': 0.9967882633209229, 'Sy': 0.003612011205404997} \n",
            " sem  Olson's bulging suitcase had been forecasting correctly. {'NA': 0, 'Se': 1} pred_sem: {'NA': 0.007195719517767429, 'Se': 0.9970500469207764}\n",
            "16 \n",
            " syn  Poisonous fumes had been forging very well. {'NA': 1, 'Sy': 0} pred_syn: {'NA': 0.9983824491500854, 'Sy': 0.002937721088528633} \n",
            " sem  Poisonous fumes had been forging very well. {'NA': 0, 'Se': 1} pred_sem: {'NA': 0.0012791656190529466, 'Se': 0.9986091256141663}\n",
            "17 \n",
            " syn  Steven Spielberg was directing another blockbuster. {'NA': 1, 'Sy': 0} pred_syn: {'NA': 0.9989199638366699, 'Sy': 0.003489490831270814} \n",
            " sem  Steven Spielberg was directing another blockbuster. {'NA': 1, 'Se': 0} pred_sem: {'NA': 0.998779833316803, 'Se': 0.0028088493272662163}\n",
            "18 \n",
            " syn  Stormy weather had been forecasted by the weatherman. {'NA': 1, 'Sy': 0} pred_syn: {'NA': 0.9983925223350525, 'Sy': 0.001814385992474854} \n",
            " sem  Stormy weather had been forecasted by the weatherman. {'NA': 1, 'Se': 0} pred_sem: {'NA': 0.9995999932289124, 'Se': 0.0004300398286432028}\n",
            "19 \n",
            " syn  Stormy weather had been forecasting by the weatherman. {'NA': 0, 'Sy': 1} pred_syn: {'NA': 0.000476157438242808, 'Sy': 0.9994146823883057} \n",
            " sem  Stormy weather had been forecasting by the weatherman. {'NA': 1, 'Se': 0} pred_sem: {'NA': 0.9995627999305725, 'Se': 0.00045793381286785007}\n",
            "20 \n",
            " syn  Ten new trees had been planted by the Forestry Service. {'NA': 1, 'Sy': 0} pred_syn: {'NA': 0.9995371103286743, 'Sy': 0.0008186826016753912} \n",
            " sem  Ten new trees had been planted by the Forestry Service. {'NA': 1, 'Se': 0} pred_sem: {'NA': 0.9996083378791809, 'Se': 0.00028345041209831834}\n",
            "21 \n",
            " syn  Ten new trees had been planting on dry land. {'NA': 0, 'Sy': 1} pred_syn: {'NA': 0.0004844400391448289, 'Sy': 0.9995763897895813} \n",
            " sem  Ten new trees had been planting on dry land. {'NA': 1, 'Se': 0} pred_sem: {'NA': 0.9992274045944214, 'Se': 0.0005351277650333941}\n",
            "22 \n",
            " syn  The Prime Minister had been sending urgent messages to her Ambassador. {'NA': 1, 'Sy': 0} pred_syn: {'NA': 0.9980181455612183, 'Sy': 0.001527002197690308} \n",
            " sem  The Prime Minister had been sending urgent messages to her Ambassador. {'NA': 1, 'Se': 0} pred_sem: {'NA': 0.9997467398643494, 'Se': 0.00035605125594884157}\n",
            "23 \n",
            " syn  The bank had been robbed repeatedly. {'NA': 1, 'Sy': 0} pred_syn: {'NA': 0.9967551827430725, 'Sy': 0.0013905479572713375} \n",
            " sem  The bank had been robbed repeatedly. {'NA': 1, 'Se': 0} pred_sem: {'NA': 0.9976947903633118, 'Se': 0.0007168920710682869}\n",
            "24 \n",
            " syn  The bank had been robbing two masked men. {'NA': 0, 'Sy': 1} pred_syn: {'NA': 0.0012435296084731817, 'Sy': 0.9986276626586914} \n",
            " sem  The bank had been robbing two masked men. {'NA': 1, 'Se': 0} pred_sem: {'NA': 0.9987609386444092, 'Se': 0.0005976753891445696}\n",
            "25 \n",
            " syn  The broken television had been scribbling his thoughts on a napkin. {'NA': 1, 'Sy': 0} pred_syn: {'NA': 0.9988439083099365, 'Sy': 0.0010685536544770002} \n",
            " sem  The broken television had been scribbling his thoughts on a napkin. {'NA': 0, 'Se': 1} pred_sem: {'NA': 0.0007908224943093956, 'Se': 0.9983805418014526}\n",
            "26 \n",
            " syn  The bubblegum had been canceling as expected. {'NA': 1, 'Sy': 0} pred_syn: {'NA': 0.9983747005462646, 'Sy': 0.0006575355655513704} \n",
            " sem  The bubblegum had been canceling as expected. {'NA': 0, 'Se': 1} pred_sem: {'NA': 0.00048583492753095925, 'Se': 0.999613344669342}\n",
            "27 \n",
            " syn  The clever burglars had been robbing houses in broad daylight. {'NA': 1, 'Sy': 0} pred_syn: {'NA': 0.9991328120231628, 'Sy': 0.00044807017548009753} \n",
            " sem  The clever burglars had been robbing houses in broad daylight. {'NA': 1, 'Se': 0} pred_sem: {'NA': 0.9995063543319702, 'Se': 0.00022278670803643763}\n",
            "28 \n",
            " syn  The con artists were forging the signatures on checks. {'NA': 1, 'Sy': 0} pred_syn: {'NA': 0.9993124008178711, 'Sy': 0.00041263052844442427} \n",
            " sem  The con artists were forging the signatures on checks. {'NA': 1, 'Se': 0} pred_sem: {'NA': 0.9993166923522949, 'Se': 0.00045780616346746683}\n",
            "29 \n",
            " syn  The dark, underwater cave was paying attention to the divers. {'NA': 1, 'Sy': 0} pred_syn: {'NA': 0.9986109733581543, 'Sy': 0.0016392347170040011} \n",
            " sem  The dark, underwater cave was paying attention to the divers. {'NA': 0, 'Se': 1} pred_sem: {'NA': 0.6660038232803345, 'Se': 0.4630572497844696}\n",
            "30 \n",
            " syn  The diagram on the chalkboard had been donating blood. {'NA': 1, 'Sy': 0} pred_syn: {'NA': 0.9992508292198181, 'Sy': 0.000614600779954344} \n",
            " sem  The diagram on the chalkboard had been donating blood. {'NA': 0, 'Se': 1} pred_sem: {'NA': 0.001389898476190865, 'Se': 0.9974043965339661}\n",
            "31 \n",
            " syn  The embarrassing allegations had been wrapping yesterday. {'NA': 1, 'Sy': 0} pred_syn: {'NA': 0.9983510971069336, 'Sy': 0.00602781493216753} \n",
            " sem  The embarrassing allegations had been wrapping yesterday. {'NA': 0, 'Se': 1} pred_sem: {'NA': 0.085135318338871, 'Se': 0.9590067863464355}\n",
            "32 \n",
            " syn  The excited bird watchers were observing the rare eagle. {'NA': 1, 'Sy': 0} pred_syn: {'NA': 0.999042809009552, 'Sy': 0.0012417299440130591} \n",
            " sem  The excited bird watchers were observing the rare eagle. {'NA': 1, 'Se': 0} pred_sem: {'NA': 0.999685525894165, 'Se': 0.0004131032037548721}\n",
            "33 \n",
            " syn  The foreign doctors were curing hundreds of villagers of malaria. {'NA': 1, 'Sy': 0} pred_syn: {'NA': 0.9992788434028625, 'Sy': 0.0007487318362109363} \n",
            " sem  The foreign doctors were curing hundreds of villagers of malaria. {'NA': 1, 'Se': 0} pred_sem: {'NA': 0.9996687173843384, 'Se': 0.00023398763732984662}\n",
            "34 \n",
            " syn  The forestry workers had been planting cedar saplings on the hillside. {'NA': 1, 'Sy': 0} pred_syn: {'NA': 0.999651312828064, 'Sy': 0.00034957885509356856} \n",
            " sem  The forestry workers had been planting cedar saplings on the hillside. {'NA': 1, 'Se': 0} pred_sem: {'NA': 0.999640703201294, 'Se': 0.000252163881668821}\n",
            "35 \n",
            " syn  The gardener was watering the plants. {'NA': 1, 'Sy': 0} pred_syn: {'NA': 0.9990594983100891, 'Sy': 0.0014102791901677847} \n",
            " sem  The gardener was watering the plants. {'NA': 1, 'Se': 0} pred_sem: {'NA': 0.9995303153991699, 'Se': 0.0003462674794718623}\n",
            "36 \n",
            " syn  The girl's disease was cured by a simple treatment. {'NA': 1, 'Sy': 0} pred_syn: {'NA': 0.9993875026702881, 'Sy': 0.0006645660614594817} \n",
            " sem  The girl's disease was cured by a simple treatment. {'NA': 1, 'Se': 0} pred_sem: {'NA': 0.999624490737915, 'Se': 0.0005687561351805925}\n",
            "37 \n",
            " syn  The girl's disease was curing a simple treatment. {'NA': 0, 'Sy': 1} pred_syn: {'NA': 0.31036052107810974, 'Sy': 0.7556998133659363} \n",
            " sem  The girl's disease was curing a simple treatment. {'NA': 1, 'Se': 0} pred_sem: {'NA': 0.9991384744644165, 'Se': 0.0018849424086511135}\n",
            "38 \n",
            " syn  The grimy pots and pans had been seizing without warning. {'NA': 1, 'Sy': 0} pred_syn: {'NA': 0.9868357181549072, 'Sy': 0.031012719497084618} \n",
            " sem  The grimy pots and pans had been seizing without warning. {'NA': 0, 'Se': 1} pred_sem: {'NA': 0.0006099234451539814, 'Se': 0.9993830919265747}\n",
            "39 \n",
            " syn  The height of the bookcase was sending mixed signals to the carpenter. {'NA': 1, 'Sy': 0} pred_syn: {'NA': 0.9996007084846497, 'Sy': 0.0010590223828330636} \n",
            " sem  The height of the bookcase was sending mixed signals to the carpenter. {'NA': 0, 'Se': 1} pred_sem: {'NA': 0.9737774729728699, 'Se': 0.0907374918460846}\n",
            "40 \n",
            " syn  The jewel expert was estimating the value of the diamond. {'NA': 1, 'Sy': 0} pred_syn: {'NA': 0.9993833303451538, 'Sy': 0.00047782037290744483} \n",
            " sem  The jewel expert was estimating the value of the diamond. {'NA': 1, 'Se': 0} pred_sem: {'NA': 0.9990076422691345, 'Se': 0.0009168796823360026}\n",
            "41 \n",
            " syn  The library books had been regretting their behavior. {'NA': 1, 'Sy': 0} pred_syn: {'NA': 0.9997486472129822, 'Sy': 0.0004576074134092778} \n",
            " sem  The library books had been regretting their behavior. {'NA': 0, 'Se': 1} pred_sem: {'NA': 0.0011374852620065212, 'Se': 0.9988412261009216}\n",
            "42 \n",
            " syn  The man's beard had been visiting a friend in the hospital. {'NA': 1, 'Sy': 0} pred_syn: {'NA': 0.006335540674626827, 'Sy': 0.9964722394943237} \n",
            " sem  The man's beard had been visiting a friend in the hospital. {'NA': 0, 'Se': 1} pred_sem: {'NA': 0.001029812265187502, 'Se': 0.9996453523635864}\n",
            "43 \n",
            " syn  The man's signature was forged by the lawyers. {'NA': 1, 'Sy': 0} pred_syn: {'NA': 0.9995183944702148, 'Sy': 0.0004581063112709671} \n",
            " sem  The man's signature was forged by the lawyers. {'NA': 1, 'Se': 0} pred_sem: {'NA': 0.9997654557228088, 'Se': 0.0002435233909636736}\n",
            "44 \n",
            " syn  The man's signature was forging the lawyers. {'NA': 0, 'Sy': 1} pred_syn: {'NA': 0.00047640621778555214, 'Sy': 0.9992457628250122} \n",
            " sem  The man's signature was forging the lawyers. {'NA': 1, 'Se': 0} pred_sem: {'NA': 0.9995928406715393, 'Se': 0.0005074190557934344}\n",
            "45 \n",
            " syn  The movie was directed professionally. {'NA': 1, 'Sy': 0} pred_syn: {'NA': 0.9989068508148193, 'Sy': 0.001912435400299728} \n",
            " sem  The movie was directed professionally. {'NA': 1, 'Se': 0} pred_sem: {'NA': 0.9992749094963074, 'Se': 0.0010652244091033936}\n",
            "46 \n",
            " syn  The movie was directing Steven Spielberg. {'NA': 0, 'Sy': 1} pred_syn: {'NA': 0.023501824587583542, 'Sy': 0.9844569563865662} \n",
            " sem  The movie was directing Steven Spielberg. {'NA': 1, 'Se': 0} pred_sem: {'NA': 0.9982340335845947, 'Se': 0.0013408802915364504}\n",
            "47 \n",
            " syn  The musical piece was robbing repeatedly. {'NA': 1, 'Sy': 0} pred_syn: {'NA': 0.9960479140281677, 'Sy': 0.0022971138823777437} \n",
            " sem  The musical piece was robbing repeatedly. {'NA': 0, 'Se': 1} pred_sem: {'NA': 0.00039892341010272503, 'Se': 0.9997488856315613}\n",
            "48 \n",
            " syn  The phone bill had been paid quickly. {'NA': 1, 'Sy': 0} pred_syn: {'NA': 0.9993146657943726, 'Sy': 0.0008762630168348551} \n",
            " sem  The phone bill had been paid quickly. {'NA': 1, 'Se': 0} pred_sem: {'NA': 0.999428927898407, 'Se': 0.0005852788453921676}\n",
            "49 \n",
            " syn  The phone bill had been paying his roommate. {'NA': 0, 'Sy': 1} pred_syn: {'NA': 0.00016534302267245948, 'Sy': 0.9996292591094971} \n",
            " sem  The phone bill had been paying his roommate. {'NA': 1, 'Se': 0} pred_sem: {'NA': 0.9994895458221436, 'Se': 0.00038737274007871747}\n",
            "50 \n",
            " syn  The police had been seizing shipments of drugs at the border. {'NA': 1, 'Sy': 0} pred_syn: {'NA': 0.9994148015975952, 'Sy': 0.0004679275443777442} \n",
            " sem  The police had been seizing shipments of drugs at the border. {'NA': 1, 'Se': 0} pred_sem: {'NA': 0.9995602965354919, 'Se': 0.0003551952540874481}\n",
            "51 \n",
            " syn  The popular amusement park is visited daily. {'NA': 1, 'Sy': 0} pred_syn: {'NA': 0.9991243481636047, 'Sy': 0.0004989407025277615} \n",
            " sem  The popular amusement park is visited daily. {'NA': 1, 'Se': 0} pred_sem: {'NA': 0.9990682005882263, 'Se': 0.0005857514915987849}\n",
            "52 \n",
            " syn  The popular amusement park is visiting by millions of tourists eh year. {'NA': 0, 'Sy': 1} pred_syn: {'NA': 0.01173853687942028, 'Sy': 0.9955423474311829} \n",
            " sem  The popular amusement park is visiting by millions of tourists eh year. {'NA': 1, 'Se': 0} pred_sem: {'NA': 0.9990314245223999, 'Se': 0.0005751824355684221}\n",
            "53 \n",
            " syn  The rare bird's behavior was observed by the biologists. {'NA': 1, 'Sy': 0} pred_syn: {'NA': 0.9993115663528442, 'Sy': 0.0009958446025848389} \n",
            " sem  The rare bird's behavior was observed by the biologists. {'NA': 1, 'Se': 0} pred_sem: {'NA': 0.9997015595436096, 'Se': 0.0004141873214393854}\n",
            "54 \n",
            " syn  The rare bird's behavior was observing by the biologists. {'NA': 0, 'Sy': 1} pred_syn: {'NA': 0.000353265437297523, 'Sy': 0.9994364380836487} \n",
            " sem  The rare bird's behavior was observing by the biologists. {'NA': 1, 'Se': 0} pred_sem: {'NA': 0.9997038245201111, 'Se': 0.00037017694558016956}\n",
            "55 \n",
            " syn  The resourceful engineers had been inventing tiny new devices. {'NA': 1, 'Sy': 0} pred_syn: {'NA': 0.9994198083877563, 'Sy': 0.000597837963141501} \n",
            " sem  The resourceful engineers had been inventing tiny new devices. {'NA': 1, 'Se': 0} pred_sem: {'NA': 0.9995829463005066, 'Se': 0.00033996120328083634}\n",
            "56 \n",
            " syn  The roast lamb had been watering too much. {'NA': 1, 'Sy': 0} pred_syn: {'NA': 0.012619410641491413, 'Sy': 0.994494616985321} \n",
            " sem  The roast lamb had been watering too much. {'NA': 0, 'Se': 1} pred_sem: {'NA': 0.9991497993469238, 'Se': 0.0006924229091964662}\n",
            "57 \n",
            " syn  The sin had been planting doubt in her mind. {'NA': 1, 'Sy': 0} pred_syn: {'NA': 0.9988411068916321, 'Sy': 0.0010713051306083798} \n",
            " sem  The sin had been planting doubt in her mind. {'NA': 0, 'Se': 1} pred_sem: {'NA': 0.5049832463264465, 'Se': 0.6998794674873352}\n",
            "58 \n",
            " syn  The sleek new building was designing a team of German architects. {'NA': 0, 'Sy': 1} pred_syn: {'NA': 0.0007289397181011736, 'Sy': 0.9992079138755798} \n",
            " sem  The sleek new building was designing a team of German architects. {'NA': 1, 'Se': 0} pred_sem: {'NA': 0.9879466891288757, 'Se': 0.01787763461470604}\n",
            "59 \n",
            " syn  The stolen artwork had been seized by the border police. {'NA': 1, 'Sy': 0} pred_syn: {'NA': 0.9995266199111938, 'Sy': 0.00045062435674481094} \n",
            " sem  The stolen artwork had been seized by the border police. {'NA': 1, 'Se': 0} pred_sem: {'NA': 0.9966468214988708, 'Se': 0.002146378392353654}\n",
            "60 \n",
            " syn  The stolen artwork had been seizing without warning. {'NA': 0, 'Sy': 1} pred_syn: {'NA': 0.005940990522503853, 'Sy': 0.9976630210876465} \n",
            " sem  The stolen artwork had been seizing without warning. {'NA': 1, 'Se': 0} pred_sem: {'NA': 0.00019573105964809656, 'Se': 0.9998188614845276}\n",
            "61 \n",
            " syn  The tourists had been visiting the amusement park in the morning. {'NA': 1, 'Sy': 0} pred_syn: {'NA': 0.9993938207626343, 'Sy': 0.00045267667155712843} \n",
            " sem  The tourists had been visiting the amusement park in the morning. {'NA': 1, 'Se': 0} pred_sem: {'NA': 0.9996161460876465, 'Se': 0.00021491867664735764}\n",
            "62 \n",
            " syn  The tragic mistake was regretted years later. {'NA': 1, 'Sy': 0} pred_syn: {'NA': 0.9995052814483643, 'Sy': 0.0006447815685532987} \n",
            " sem  The tragic mistake was regretted years later. {'NA': 1, 'Se': 0} pred_sem: {'NA': 0.9993501305580139, 'Se': 0.0012767341686412692}\n",
            "63 \n",
            " syn  The tragic mistake was regretting by Erika for many years. {'NA': 0, 'Sy': 1} pred_syn: {'NA': 0.0003142929053865373, 'Sy': 0.9995812773704529} \n",
            " sem  The tragic mistake was regretting by Erika for many years. {'NA': 1, 'Se': 0} pred_sem: {'NA': 0.999697208404541, 'Se': 0.00034310895716771483}\n",
            "64 \n",
            " syn  The useful new gadget had been estimating professionally. {'NA': 1, 'Sy': 0} pred_syn: {'NA': 0.9983446598052979, 'Sy': 0.0014165167231112719} \n",
            " sem  The useful new gadget had been estimating professionally. {'NA': 0, 'Se': 1} pred_sem: {'NA': 0.0009472137899138033, 'Se': 0.999256432056427}\n",
            "65 \n",
            " syn  The useful new gadget had been invented by a bored waiter. {'NA': 1, 'Sy': 0} pred_syn: {'NA': 0.9995700716972351, 'Sy': 0.0004159708914812654} \n",
            " sem  The useful new gadget had been invented by a bored waiter. {'NA': 1, 'Se': 0} pred_sem: {'NA': 0.9996824264526367, 'Se': 0.0002800090878736228}\n",
            "66 \n",
            " syn  The useful new gadget had been inventing by a bored waiter. {'NA': 0, 'Sy': 1} pred_syn: {'NA': 0.00023038126528263092, 'Sy': 0.9996711015701294} \n",
            " sem  The useful new gadget had been inventing by a bored waiter. {'NA': 1, 'Se': 0} pred_sem: {'NA': 0.9996874332427979, 'Se': 0.00025311001809313893}\n",
            "67 \n",
            " syn  The value of the jewels was estimated by the dealer. {'NA': 1, 'Sy': 0} pred_syn: {'NA': 0.9991440773010254, 'Sy': 0.0006741985562257469} \n",
            " sem  The value of the jewels was estimated by the dealer. {'NA': 1, 'Se': 0} pred_sem: {'NA': 0.9994280934333801, 'Se': 0.00039884852594695985}\n",
            "68 \n",
            " syn  The value of the jewels was estimating the dealer. {'NA': 0, 'Sy': 1} pred_syn: {'NA': 0.0005407012649811804, 'Sy': 0.9994499087333679} \n",
            " sem  The value of the jewels was estimating the dealer. {'NA': 1, 'Se': 0} pred_sem: {'NA': 0.9990774393081665, 'Se': 0.0006979985046200454}\n",
            "69 \n",
            " syn  The value of the jewels was inventing the digital computer. {'NA': 1, 'Sy': 0} pred_syn: {'NA': 0.9976255297660828, 'Sy': 0.0018163284985348582} \n",
            " sem  The value of the jewels was inventing the digital computer. {'NA': 0, 'Se': 1} pred_sem: {'NA': 0.005619386211037636, 'Se': 0.996342122554779}\n",
            "70 \n",
            " syn  The victim's body had been directing the police. {'NA': 1, 'Sy': 0} pred_syn: {'NA': 0.421330064535141, 'Sy': 0.7450306415557861} \n",
            " sem  The victim's body had been directing the police. {'NA': 0, 'Se': 1} pred_sem: {'NA': 0.9220475554466248, 'Se': 0.05652432516217232}\n",
            "71 \n",
            " syn  The wealthy American philanthropist had been donating money to Romanian orphanages. {'NA': 1, 'Sy': 0} pred_syn: {'NA': 0.9995386600494385, 'Sy': 0.0006801649578846991} \n",
            " sem  The wealthy American philanthropist had been donating money to Romanian orphanages. {'NA': 1, 'Se': 0} pred_sem: {'NA': 0.9997212290763855, 'Se': 0.00030945922480896115}\n",
            "72 \n",
            " syn  The weather service had been forecasting snow for the mountain areas. {'NA': 1, 'Sy': 0} pred_syn: {'NA': 0.9983556866645813, 'Sy': 0.0009831575443968177} \n",
            " sem  The weather service had been forecasting snow for the mountain areas. {'NA': 1, 'Se': 0} pred_sem: {'NA': 0.9985585808753967, 'Se': 0.0019238428212702274}\n",
            "73 \n",
            " syn  Theresa's birthday gift had been wrapped yesterday. {'NA': 1, 'Sy': 0} pred_syn: {'NA': 0.999393105506897, 'Sy': 0.0011515466030687094} \n",
            " sem  Theresa's birthday gift had been wrapped yesterday. {'NA': 1, 'Se': 0} pred_sem: {'NA': 0.9993896484375, 'Se': 0.0006381967687048018}\n",
            "74 \n",
            " syn  Theresa's birthday gift had been wrapping yesterday. {'NA': 0, 'Sy': 1} pred_syn: {'NA': 0.0005040576797910035, 'Sy': 0.9997465014457703} \n",
            " sem  Theresa's birthday gift had been wrapping yesterday. {'NA': 1, 'Se': 0} pred_sem: {'NA': 0.99932861328125, 'Se': 0.0011217785067856312}\n",
            "75 \n",
            " syn  Theresa's loving grandmother had been wrapping the presents. {'NA': 1, 'Sy': 0} pred_syn: {'NA': 0.9996715784072876, 'Sy': 0.001191930379718542} \n",
            " sem  Theresa's loving grandmother had been wrapping the presents. {'NA': 1, 'Se': 0} pred_sem: {'NA': 0.9997413754463196, 'Se': 0.0005230026436038315}\n",
            "76 \n",
            " syn  Wilson's unreasonable proposal was observing the stars. {'NA': 1, 'Sy': 0} pred_syn: {'NA': 0.999175488948822, 'Sy': 0.0013484484516084194} \n",
            " sem  Wilson's unreasonable proposal was observing the stars. {'NA': 0, 'Se': 1} pred_sem: {'NA': 0.10347031056880951, 'Se': 0.9049476981163025}\n",
            "{\n",
            "    \"cats_score\": 0.6713647098515519,\n",
            "    \"cats_score_desc\": \"macro AUC\",\n",
            "    \"cats_micro_p\": 0.8831168831168831,\n",
            "    \"cats_micro_r\": 0.8831168831168831,\n",
            "    \"cats_micro_f\": 0.8831168831168831,\n",
            "    \"cats_macro_p\": 0.6946144430844553,\n",
            "    \"cats_macro_r\": 0.6335526315789474,\n",
            "    \"cats_macro_f\": 0.6556416191832859,\n",
            "    \"cats_macro_auc\": 0.6713647098515519,\n",
            "    \"cats_f_per_type\": {\n",
            "        \"NA\": {\n",
            "            \"p\": 0.8837209302325582,\n",
            "            \"r\": 1.0,\n",
            "            \"f\": 0.9382716049382717\n",
            "        },\n",
            "        \"Sy\": {\n",
            "            \"p\": 0.8947368421052632,\n",
            "            \"r\": 0.85,\n",
            "            \"f\": 0.8717948717948718\n",
            "        },\n",
            "        \"Se\": {\n",
            "            \"p\": 1.0,\n",
            "            \"r\": 0.6842105263157895,\n",
            "            \"f\": 0.8125000000000001\n",
            "        },\n",
            "        \"SS\": {\n",
            "            \"p\": 0.0,\n",
            "            \"r\": 0.0,\n",
            "            \"f\": 0.0\n",
            "        }\n",
            "    },\n",
            "    \"cats_auc_per_type\": {\n",
            "        \"NA\": 0.9358974358974359,\n",
            "        \"Sy\": 0.9074561403508773,\n",
            "        \"Se\": 0.8421052631578947,\n",
            "        \"SS\": null\n",
            "    }\n",
            "}\n",
            "prf per label\n",
            "(array([0.88372093, 1.        , 0.89473684, 0.        ]), array([1.        , 0.68421053, 0.85      , 0.        ]), array([0.9382716 , 0.8125    , 0.87179487, 0.        ]), array([38, 19, 20,  0]))\n",
            "prf macro\n",
            "(0.6946144430844553, 0.6335526315789474, 0.6556416191832859, None)\n",
            "prf micro\n",
            "(0.8831168831168831, 0.8831168831168831, 0.8831168831168831, None)\n",
            "prf weighted\n",
            "(0.915274444038214, 0.8831168831168831, 0.8899703691370359, None)\n"
          ],
          "name": "stdout"
        },
        {
          "output_type": "stream",
          "text": [
            "/usr/local/lib/python3.7/dist-packages/sklearn/metrics/_classification.py:1272: UndefinedMetricWarning: Recall and F-score are ill-defined and being set to 0.0 in labels with no true samples. Use `zero_division` parameter to control this behavior.\n",
            "  _warn_prf(average, modifier, msg_start, len(result))\n"
          ],
          "name": "stderr"
        }
      ]
    },
    {
      "cell_type": "code",
      "metadata": {
        "id": "wQ4f7UkW3wnS"
      },
      "source": [
        "print(y_pred)\n",
        "print(y_true)"
      ],
      "execution_count": null,
      "outputs": []
    },
    {
      "cell_type": "markdown",
      "metadata": {
        "id": "9dXC-kKS0VuC"
      },
      "source": [
        "conversion de sem en syn"
      ]
    },
    {
      "cell_type": "code",
      "metadata": {
        "id": "ZVvVZnQIfcI5"
      },
      "source": [
        "test_sem_file = \"/content/drive/MyDrive/collab/erp_textcat/goe_inspired_erp/corpus/sem_test.spacy\"\n",
        "train_sem_file = \"/content/drive/MyDrive/collab/erp_textcat/goe_inspired_erp/corpus/sem_train.spacy\"\n",
        "dev_sem_file = \"/content/drive/MyDrive/collab/erp_textcat/goe_inspired_erp/corpus/sem_dev.spacy\"\n",
        "\n",
        "test_syn_file = \"/content/drive/MyDrive/collab/erp_textcat/goe_inspired_erp/corpus/syn_test.spacy\"\n",
        "train_syn_file = \"/content/drive/MyDrive/collab/erp_textcat/goe_inspired_erp/corpus/syn_train.spacy\"\n",
        "dev_syn_file = \"/content/drive/MyDrive/collab/erp_textcat/goe_inspired_erp/corpus/syn_dev.spacy\"\n",
        "\n",
        "sentences = open(\"/content/drive/MyDrive/collab/erp_textcat/goe_inspired_erp/assets/corpus.tab\").read().strip().split(\"\\n\")\n",
        "sentence_dict = {s.split(\"#\")[1]: s.split(\"#\") for s in sentences}\n",
        "\n",
        "def convert(input_file, output_file, nlp_sem, sentence_dict):\n",
        "  docbin_sem = DocBin().from_disk(input_file)\n",
        "  docs = [doc for doc in docbin_sem.get_docs(nlp_sem.vocab)]\n",
        "\n",
        "  conversion_dict = {\"SS\": \"Sy\", \"Sy\": \"Sy\", \"Se\": \"NA\", \"NA\": \"NA\"}\n",
        "  categories = set([v for v in conversion_dict.values()])\n",
        "  for doc in docs:\n",
        "      _id, text, trigger, effect = sentence_dict[doc.text]\n",
        "      doc.cats = {category: 0 for category in categories}\n",
        "      doc.cats[conversion_dict[effect]] = 1\n",
        "\n",
        "  docbin = DocBin(docs=docs, store_user_data=True)\n",
        "  docbin.to_disk(output_file)\n",
        "\n",
        "convert(test_sem_file, test_syn_file, nlp_sem, sentence_dict)\n",
        "convert(train_sem_file, train_syn_file, nlp_sem, sentence_dict)\n",
        "convert(dev_sem_file, dev_syn_file, nlp_sem, sentence_dict)\n"
      ],
      "execution_count": null,
      "outputs": []
    }
  ]
}